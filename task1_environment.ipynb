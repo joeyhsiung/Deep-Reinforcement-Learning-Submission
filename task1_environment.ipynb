{
 "cells": [
  {
   "cell_type": "code",
   "execution_count": null,
   "id": "soviet-atlantic",
   "metadata": {},
   "outputs": [],
   "source": [
    "task1_environment"
   ]
  }
 ],
 "metadata": {
  "kernelspec": {
   "display_name": "PyCharm (RL-coursework)",
   "language": "python",
   "name": "pycharm-dcd238a4"
  },
  "language_info": {
   "codemirror_mode": {
    "name": "ipython",
    "version": 3
   },
   "file_extension": ".py",
   "mimetype": "text/x-python",
   "name": "python",
   "nbconvert_exporter": "python",
   "pygments_lexer": "ipython3",
   "version": "3.9.1"
  }
 },
 "nbformat": 4,
 "nbformat_minor": 5
}

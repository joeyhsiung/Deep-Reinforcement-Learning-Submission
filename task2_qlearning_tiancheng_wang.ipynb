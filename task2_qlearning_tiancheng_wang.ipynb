{
 "cells": [
  {
   "cell_type": "code",
   "execution_count": 17,
   "id": "motivated-intention",
   "metadata": {},
   "outputs": [
    {
     "name": "stdout",
     "output_type": "stream",
     "text": [
      "The autoreload extension is already loaded. To reload it, use:\n",
      "  %reload_ext autoreload\n"
     ]
    }
   ],
   "source": [
    "# Reload all modules (except those excluded by %aimport) every time before executing the Python code typed.\n",
    "%load_ext autoreload\n",
    "%autoreload 2\n",
    "import os\n",
    "from task1_environment.environment.main import PacMan\n",
    "from matplotlib.animation import FuncAnimation\n",
    "from IPython.display import HTML\n",
    "import matplotlib.pyplot as plt\n",
    "%matplotlib inline\n",
    "# import collections\n",
    "# from qlearning_tiancheng_wang.q_policy import q_policy\n",
    "# from qlearning_tiancheng_wang.train import train\n",
    "# from tool.save_load import save_q_table, load_q_table\n",
    "# from tqdm import tqdm\n",
    "# import numpy as np"
   ]
  }
 ],
 "metadata": {
  "kernelspec": {
   "display_name": "PyCharm (RL-coursework)",
   "language": "python",
   "name": "pycharm-dcd238a4"
  },
  "language_info": {
   "codemirror_mode": {
    "name": "ipython",
    "version": 3
   },
   "file_extension": ".py",
   "mimetype": "text/x-python",
   "name": "python",
   "nbconvert_exporter": "python",
   "pygments_lexer": "ipython3",
   "version": "3.9.1"
  }
 },
 "nbformat": 4,
 "nbformat_minor": 5
}
